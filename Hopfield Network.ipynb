{
 "cells": [
  {
   "cell_type": "markdown",
   "id": "01f43288",
   "metadata": {},
   "source": [
    "## Write a python program to design a Hopfield Network which stores 4 vectors"
   ]
  },
  {
   "cell_type": "code",
   "execution_count": 1,
   "id": "5eaf0f2c",
   "metadata": {},
   "outputs": [],
   "source": [
    "#Hebbian Rule\n",
    "import numpy as np "
   ]
  },
  {
   "cell_type": "code",
   "execution_count": 2,
   "id": "b2796dca",
   "metadata": {},
   "outputs": [],
   "source": [
    "class HopfieldNetwork:\n",
    "    def __init__(self, n_neurons): \n",
    "        self.weights = np.zeros((n_neurons, n_neurons))\n",
    "\n",
    "    def train(self, patterns):\n",
    "        for pattern in patterns:\n",
    "            self.weights += np.outer(pattern, pattern)\n",
    "            np.fill_diagonal(self.weights, 0)\n",
    "            print(self.weights)\n",
    "\n",
    "    '''def predict(self, pattern):\n",
    "        energy = -0.5 * ((pattern @ self.weights) @ pattern) \n",
    "        return np.sign((pattern @ self.weights) + energy)'''\n",
    "    \n",
    "    def predict(self, pattern, max_iter=10):\n",
    "        for _ in range(max_iter):\n",
    "            new_pattern = np.sign(np.dot(pattern, self.weights))\n",
    "            if np.array_equal(new_pattern, pattern):\n",
    "                return new_pattern\n",
    "            pattern = new_pattern\n",
    "        return pattern"
   ]
  },
  {
   "cell_type": "code",
   "execution_count": 3,
   "id": "b9aa7120",
   "metadata": {},
   "outputs": [],
   "source": [
    "'''patterns = np.array([\n",
    "                [1, 1, -1, -1],\n",
    "                [-1, -1, 1, 1],\n",
    "                [1, -1, 1, -1],\n",
    "                [-1, 1, -1, 1]\n",
    "                ])'''\n",
    "patterns = np.array([\n",
    "                [0,1,0],\n",
    "                [1,0,1],\n",
    "                [0,1,0],\n",
    "                ])\n",
    "n_neurons = 3"
   ]
  },
  {
   "cell_type": "code",
   "execution_count": 4,
   "id": "3164876f",
   "metadata": {},
   "outputs": [],
   "source": [
    "network = HopfieldNetwork(n_neurons)"
   ]
  },
  {
   "cell_type": "code",
   "execution_count": 5,
   "id": "a2ab5d02",
   "metadata": {},
   "outputs": [
    {
     "name": "stdout",
     "output_type": "stream",
     "text": [
      "[[0. 0. 0.]\n",
      " [0. 0. 0.]\n",
      " [0. 0. 0.]]\n",
      "[[0. 0. 1.]\n",
      " [0. 0. 0.]\n",
      " [1. 0. 0.]]\n",
      "[[0. 0. 1.]\n",
      " [0. 0. 0.]\n",
      " [1. 0. 0.]]\n"
     ]
    }
   ],
   "source": [
    "network.train(patterns)"
   ]
  },
  {
   "cell_type": "code",
   "execution_count": 6,
   "id": "430150b6",
   "metadata": {},
   "outputs": [
    {
     "name": "stdout",
     "output_type": "stream",
     "text": [
      "Input pattern: [0 1 0]\n",
      "Predicted pattern: [0. 0. 0.]\n",
      "Input pattern: [1 0 1]\n",
      "Predicted pattern: [1. 0. 1.]\n",
      "Input pattern: [0 1 0]\n",
      "Predicted pattern: [0. 0. 0.]\n"
     ]
    }
   ],
   "source": [
    "for pattern in patterns:\n",
    "    prediction = network.predict(pattern) \n",
    "    print('Input pattern:', pattern) \n",
    "    print('Predicted pattern:', prediction)"
   ]
  },
  {
   "cell_type": "code",
   "execution_count": null,
   "id": "a8bb93ad-9b1b-4f4b-b991-b58a3ab4b9d5",
   "metadata": {},
   "outputs": [],
   "source": []
  }
 ],
 "metadata": {
  "kernelspec": {
   "display_name": "Python 3 (ipykernel)",
   "language": "python",
   "name": "python3"
  },
  "language_info": {
   "codemirror_mode": {
    "name": "ipython",
    "version": 3
   },
   "file_extension": ".py",
   "mimetype": "text/x-python",
   "name": "python",
   "nbconvert_exporter": "python",
   "pygments_lexer": "ipython3",
   "version": "3.12.1"
  }
 },
 "nbformat": 4,
 "nbformat_minor": 5
}
