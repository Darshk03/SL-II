{
 "cells": [
  {
   "cell_type": "markdown",
   "id": "e8bdde15",
   "metadata": {},
   "source": [
    "## Write a python program to illustrate ART neural network"
   ]
  },
  {
   "cell_type": "code",
   "execution_count": 1,
   "id": "bca1ba57",
   "metadata": {},
   "outputs": [],
   "source": [
    "import numpy as np"
   ]
  },
  {
   "cell_type": "code",
   "execution_count": 2,
   "id": "9eb9104a",
   "metadata": {},
   "outputs": [],
   "source": [
    "class ARTNetwork:\n",
    "    def __init__(self, input_size, vigilance):\n",
    "        self.input_size = input_size\n",
    "        self.vigilance = vigilance\n",
    "        self.weights = np.zeros((input_size,1))\n",
    "\n",
    "    def train(self, input_data,epochs):\n",
    "        normalized_input = input_data / np.linalg.norm(input_data)\n",
    "        for _ in range(epochs):\n",
    "            similarity = normalized_input @ self.weights\n",
    "            if similarity.any() >= self.vigilance:\n",
    "                return\n",
    "            self.weights = np.maximum(self.weights, normalized_input)\n",
    "            normalized_input = self.weights / np.linalg.norm(self.weights)\n",
    "\n",
    "    def predict(self, input_data):\n",
    "        normalized_input = input_data / np.linalg.norm(input_data)\n",
    "        similarity = normalized_input @ self.weights\n",
    "        if similarity.any() >= self.vigilance:\n",
    "            output_pattern = np.zeros(len(similarity))\n",
    "            print(similarity)\n",
    "            winner = np.argmax(similarity)\n",
    "            output_pattern[winner] = 1\n",
    "        else:\n",
    "            output_pattern = np.zeros(len(similarity) + 1)\n",
    "            output_pattern[-1] = 1\n",
    "        return output_pattern"
   ]
  },
  {
   "cell_type": "code",
   "execution_count": 3,
   "id": "1dcdd282",
   "metadata": {},
   "outputs": [],
   "source": [
    "# Usage example\n",
    "input_size = 4\n",
    "vigilance = 0.9\n",
    "art = ARTNetwork(input_size, vigilance)"
   ]
  },
  {
   "cell_type": "code",
   "execution_count": 4,
   "id": "268f41c7",
   "metadata": {},
   "outputs": [],
   "source": [
    "# Training data\n",
    "data = np.array([[1, 1, 0, 0],\n",
    "                 [0, 1, 0, 1],\n",
    "                 [0, 0, 1, 1],\n",
    "                 [1, 0, 1, 0]])"
   ]
  },
  {
   "cell_type": "code",
   "execution_count": 5,
   "id": "bbc773d6",
   "metadata": {},
   "outputs": [],
   "source": [
    "# Train the ART network\n",
    "for sample in data:\n",
    "    art.train(sample,1000)"
   ]
  },
  {
   "cell_type": "code",
   "execution_count": 7,
   "id": "d2c129ff",
   "metadata": {},
   "outputs": [
    {
     "name": "stdout",
     "output_type": "stream",
     "text": [
      "[-0.70710678 -0.70710678  0.          0.        ]\n",
      "[0. 0. 1. 0.]\n"
     ]
    }
   ],
   "source": [
    "# Test a new input\n",
    "new_input = np.array([0, -1, 0, 0])\n",
    "new_output = art.predict(new_input)\n",
    "print(new_output)"
   ]
  },
  {
   "cell_type": "code",
   "execution_count": null,
   "id": "965dccef",
   "metadata": {},
   "outputs": [],
   "source": []
  }
 ],
 "metadata": {
  "kernelspec": {
   "display_name": "Python 3 (ipykernel)",
   "language": "python",
   "name": "python3"
  },
  "language_info": {
   "codemirror_mode": {
    "name": "ipython",
    "version": 3
   },
   "file_extension": ".py",
   "mimetype": "text/x-python",
   "name": "python",
   "nbconvert_exporter": "python",
   "pygments_lexer": "ipython3",
   "version": "3.12.1"
  }
 },
 "nbformat": 4,
 "nbformat_minor": 5
}
