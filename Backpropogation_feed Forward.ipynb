{
 "cells": [
  {
   "cell_type": "code",
   "execution_count": 1,
   "id": "ea70696a-8a61-416c-80c7-53026b21e1d1",
   "metadata": {},
   "outputs": [],
   "source": [
    "import numpy as np"
   ]
  },
  {
   "cell_type": "code",
   "execution_count": 2,
   "id": "3ad2e4cd-2408-41c7-9522-0922b90038e4",
   "metadata": {},
   "outputs": [],
   "source": [
    "# Define the parameters of the network\n",
    "input_neuron = 2    # Number of input neurons\n",
    "hidden_neuron = 4   # Number of hidden neurons\n",
    "output_neuron = 1   # Number of output neurons\n",
    "learning_rate = 0.1\n",
    "epochs = 10000"
   ]
  },
  {
   "cell_type": "code",
   "execution_count": 3,
   "id": "7e56ff7e-6700-43ee-a518-39bfddeac677",
   "metadata": {},
   "outputs": [],
   "source": [
    "# Define the training data\n",
    "X = np.array([[0, 0], [0, 1], [1, 0], [1, 1]])\n",
    "Y = np.array([[0], [1], [1], [0]])"
   ]
  },
  {
   "cell_type": "code",
   "execution_count": 4,
   "id": "4a5afdc3-722c-4bcc-ae14-9f20af25894e",
   "metadata": {},
   "outputs": [],
   "source": [
    "# Initialize the weights with random values\n",
    "W1 = np.random.randn(input_neuron, hidden_neuron) * 0.01\n",
    "W2 = np.random.randn(hidden_neuron, output_neuron) * 0.01"
   ]
  },
  {
   "cell_type": "code",
   "execution_count": 5,
   "id": "ecc55c80-094d-450a-8f21-7995b843fcf1",
   "metadata": {},
   "outputs": [],
   "source": [
    "# Initialize the biases with random values\n",
    "b1 = np.random.randn(1, hidden_neuron) * 0.01\n",
    "b2 = np.random.randn(1, output_neuron) * 0.01"
   ]
  },
  {
   "cell_type": "code",
   "execution_count": 6,
   "id": "04695196-546d-4a11-82a9-7a282901e26a",
   "metadata": {},
   "outputs": [],
   "source": [
    "# Define the sigmoid activation function and its derivative\n",
    "def sigmoid(x):\n",
    "    return 1 / (1 + np.exp(-x))"
   ]
  },
  {
   "cell_type": "code",
   "execution_count": 7,
   "id": "c0e35b6d-2d35-4abb-a63f-f15c69b2f764",
   "metadata": {},
   "outputs": [],
   "source": [
    "def sigmoid_derivative(x):\n",
    "    return x * (1 - x)"
   ]
  },
  {
   "cell_type": "code",
   "execution_count": 11,
   "id": "8359010e-aaf0-45d0-a059-1fb822a3f06c",
   "metadata": {},
   "outputs": [],
   "source": [
    "# Train the network using backpropagation\n",
    "for i in range(epochs):\n",
    "    # Forward pass\n",
    "    hidden_layer_input = np.dot(X, W1) + b1\n",
    "    hidden_layer_output = sigmoid(hidden_layer_input)\n",
    "    output_layer_input = np.dot(hidden_layer_output, W2) + b2\n",
    "    output_layer_output = sigmoid(output_layer_input)\n",
    "\n",
    " #Backward pass\n",
    "    output_error = Y - output_layer_output\n",
    "    output_delta = output_error * sigmoid_derivative(output_layer_output)\n",
    "\n",
    "    hidden_error = output_delta.dot(W2.T)\n",
    "    hidden_delta = hidden_error * sigmoid_derivative(hidden_layer_output)"
   ]
  },
  {
   "cell_type": "code",
   "execution_count": 12,
   "id": "6731a329-cbc9-461a-a049-80be83f0b9da",
   "metadata": {},
   "outputs": [
    {
     "name": "stdout",
     "output_type": "stream",
     "text": [
      "Input:\n",
      "[[0 0]\n",
      " [0 1]\n",
      " [1 0]\n",
      " [1 1]]\n",
      "Output:\n",
      "[[0.50438979]\n",
      " [0.50438322]\n",
      " [0.50438868]\n",
      " [0.50438211]]\n",
      "Expected Output:\n",
      "[[0]\n",
      " [1]\n",
      " [1]\n",
      " [0]]\n"
     ]
    }
   ],
   "source": [
    "#Test the network with some example inputs\n",
    "x_test = np.array([[0, 0], [0, 1], [1, 0], [1, 1]])\n",
    "y_test = np.array([[0], [1], [1], [0]])\n",
    "\n",
    "hidden_layer_input = np.dot(x_test, W1) + b1\n",
    "hidden_layer_output = sigmoid(hidden_layer_input)\n",
    "output_layer_input = np.dot(hidden_layer_output, W2) + b2\n",
    "output_layer_output = sigmoid(output_layer_input)\n",
    "\n",
    "print(\"Input:\")\n",
    "print(x_test)\n",
    "print(\"Output:\")\n",
    "print(output_layer_output)\n",
    "print(\"Expected Output:\")\n",
    "print(y_test)"
   ]
  },
  {
   "cell_type": "code",
   "execution_count": null,
   "id": "ff46ba6d-85e5-4d61-a063-571838105851",
   "metadata": {},
   "outputs": [],
   "source": []
  }
 ],
 "metadata": {
  "kernelspec": {
   "display_name": "Python 3 (ipykernel)",
   "language": "python",
   "name": "python3"
  },
  "language_info": {
   "codemirror_mode": {
    "name": "ipython",
    "version": 3
   },
   "file_extension": ".py",
   "mimetype": "text/x-python",
   "name": "python",
   "nbconvert_exporter": "python",
   "pygments_lexer": "ipython3",
   "version": "3.12.2"
  }
 },
 "nbformat": 4,
 "nbformat_minor": 5
}
